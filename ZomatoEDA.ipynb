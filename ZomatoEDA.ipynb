{
 "cells": [
  {
   "cell_type": "code",
   "execution_count": 3,
   "id": "e0e232ec",
   "metadata": {},
   "outputs": [],
   "source": [
    "import pandas as pd\n",
    "import numpy as np"
   ]
  },
  {
   "cell_type": "code",
   "execution_count": 4,
   "id": "0329b111",
   "metadata": {},
   "outputs": [
    {
     "data": {
      "text/html": [
       "<div>\n",
       "<style scoped>\n",
       "    .dataframe tbody tr th:only-of-type {\n",
       "        vertical-align: middle;\n",
       "    }\n",
       "\n",
       "    .dataframe tbody tr th {\n",
       "        vertical-align: top;\n",
       "    }\n",
       "\n",
       "    .dataframe thead th {\n",
       "        text-align: right;\n",
       "    }\n",
       "</style>\n",
       "<table border=\"1\" class=\"dataframe\">\n",
       "  <thead>\n",
       "    <tr style=\"text-align: right;\">\n",
       "      <th></th>\n",
       "      <th>ID</th>\n",
       "      <th>Delivery_person_ID</th>\n",
       "      <th>Delivery_person_Age</th>\n",
       "      <th>Delivery_person_Ratings</th>\n",
       "      <th>Restaurant_latitude</th>\n",
       "      <th>Restaurant_longitude</th>\n",
       "      <th>Delivery_location_latitude</th>\n",
       "      <th>Delivery_location_longitude</th>\n",
       "      <th>Order_Date</th>\n",
       "      <th>Time_Orderd</th>\n",
       "      <th>Time_Order_picked</th>\n",
       "      <th>Weather_conditions</th>\n",
       "      <th>Road_traffic_density</th>\n",
       "      <th>Vehicle_condition</th>\n",
       "      <th>Type_of_order</th>\n",
       "      <th>Type_of_vehicle</th>\n",
       "      <th>multiple_deliveries</th>\n",
       "      <th>Festival</th>\n",
       "      <th>City</th>\n",
       "      <th>Time_taken (min)</th>\n",
       "    </tr>\n",
       "  </thead>\n",
       "  <tbody>\n",
       "    <tr>\n",
       "      <th>0</th>\n",
       "      <td>0xcdcd</td>\n",
       "      <td>DEHRES17DEL01</td>\n",
       "      <td>36.0</td>\n",
       "      <td>4.2</td>\n",
       "      <td>30.327968</td>\n",
       "      <td>78.046106</td>\n",
       "      <td>30.397968</td>\n",
       "      <td>78.116106</td>\n",
       "      <td>12-02-2022</td>\n",
       "      <td>21:55</td>\n",
       "      <td>22:10</td>\n",
       "      <td>Fog</td>\n",
       "      <td>Jam</td>\n",
       "      <td>2</td>\n",
       "      <td>Snack</td>\n",
       "      <td>motorcycle</td>\n",
       "      <td>3.0</td>\n",
       "      <td>No</td>\n",
       "      <td>Metropolitian</td>\n",
       "      <td>46</td>\n",
       "    </tr>\n",
       "    <tr>\n",
       "      <th>1</th>\n",
       "      <td>0xd987</td>\n",
       "      <td>KOCRES16DEL01</td>\n",
       "      <td>21.0</td>\n",
       "      <td>4.7</td>\n",
       "      <td>10.003064</td>\n",
       "      <td>76.307589</td>\n",
       "      <td>10.043064</td>\n",
       "      <td>76.347589</td>\n",
       "      <td>13-02-2022</td>\n",
       "      <td>14:55</td>\n",
       "      <td>15:05</td>\n",
       "      <td>Stormy</td>\n",
       "      <td>High</td>\n",
       "      <td>1</td>\n",
       "      <td>Meal</td>\n",
       "      <td>motorcycle</td>\n",
       "      <td>1.0</td>\n",
       "      <td>No</td>\n",
       "      <td>Metropolitian</td>\n",
       "      <td>23</td>\n",
       "    </tr>\n",
       "    <tr>\n",
       "      <th>2</th>\n",
       "      <td>0x2784</td>\n",
       "      <td>PUNERES13DEL03</td>\n",
       "      <td>23.0</td>\n",
       "      <td>4.7</td>\n",
       "      <td>18.562450</td>\n",
       "      <td>73.916619</td>\n",
       "      <td>18.652450</td>\n",
       "      <td>74.006619</td>\n",
       "      <td>04-03-2022</td>\n",
       "      <td>17:30</td>\n",
       "      <td>17:40</td>\n",
       "      <td>Sandstorms</td>\n",
       "      <td>Medium</td>\n",
       "      <td>1</td>\n",
       "      <td>Drinks</td>\n",
       "      <td>scooter</td>\n",
       "      <td>1.0</td>\n",
       "      <td>No</td>\n",
       "      <td>Metropolitian</td>\n",
       "      <td>21</td>\n",
       "    </tr>\n",
       "    <tr>\n",
       "      <th>3</th>\n",
       "      <td>0xc8b6</td>\n",
       "      <td>LUDHRES15DEL02</td>\n",
       "      <td>34.0</td>\n",
       "      <td>4.3</td>\n",
       "      <td>30.899584</td>\n",
       "      <td>75.809346</td>\n",
       "      <td>30.919584</td>\n",
       "      <td>75.829346</td>\n",
       "      <td>13-02-2022</td>\n",
       "      <td>09:20</td>\n",
       "      <td>09:30</td>\n",
       "      <td>Sandstorms</td>\n",
       "      <td>Low</td>\n",
       "      <td>0</td>\n",
       "      <td>Buffet</td>\n",
       "      <td>motorcycle</td>\n",
       "      <td>0.0</td>\n",
       "      <td>No</td>\n",
       "      <td>Metropolitian</td>\n",
       "      <td>20</td>\n",
       "    </tr>\n",
       "    <tr>\n",
       "      <th>4</th>\n",
       "      <td>0xdb64</td>\n",
       "      <td>KNPRES14DEL02</td>\n",
       "      <td>24.0</td>\n",
       "      <td>4.7</td>\n",
       "      <td>26.463504</td>\n",
       "      <td>80.372929</td>\n",
       "      <td>26.593504</td>\n",
       "      <td>80.502929</td>\n",
       "      <td>14-02-2022</td>\n",
       "      <td>19:50</td>\n",
       "      <td>20:05</td>\n",
       "      <td>Fog</td>\n",
       "      <td>Jam</td>\n",
       "      <td>1</td>\n",
       "      <td>Snack</td>\n",
       "      <td>scooter</td>\n",
       "      <td>1.0</td>\n",
       "      <td>No</td>\n",
       "      <td>Metropolitian</td>\n",
       "      <td>41</td>\n",
       "    </tr>\n",
       "  </tbody>\n",
       "</table>\n",
       "</div>"
      ],
      "text/plain": [
       "       ID Delivery_person_ID  Delivery_person_Age  Delivery_person_Ratings  \\\n",
       "0  0xcdcd      DEHRES17DEL01                 36.0                      4.2   \n",
       "1  0xd987      KOCRES16DEL01                 21.0                      4.7   \n",
       "2  0x2784     PUNERES13DEL03                 23.0                      4.7   \n",
       "3  0xc8b6     LUDHRES15DEL02                 34.0                      4.3   \n",
       "4  0xdb64      KNPRES14DEL02                 24.0                      4.7   \n",
       "\n",
       "   Restaurant_latitude  Restaurant_longitude  Delivery_location_latitude  \\\n",
       "0            30.327968             78.046106                   30.397968   \n",
       "1            10.003064             76.307589                   10.043064   \n",
       "2            18.562450             73.916619                   18.652450   \n",
       "3            30.899584             75.809346                   30.919584   \n",
       "4            26.463504             80.372929                   26.593504   \n",
       "\n",
       "   Delivery_location_longitude  Order_Date Time_Orderd Time_Order_picked  \\\n",
       "0                    78.116106  12-02-2022       21:55             22:10   \n",
       "1                    76.347589  13-02-2022       14:55             15:05   \n",
       "2                    74.006619  04-03-2022       17:30             17:40   \n",
       "3                    75.829346  13-02-2022       09:20             09:30   \n",
       "4                    80.502929  14-02-2022       19:50             20:05   \n",
       "\n",
       "  Weather_conditions Road_traffic_density  Vehicle_condition Type_of_order  \\\n",
       "0                Fog                  Jam                  2         Snack   \n",
       "1             Stormy                 High                  1          Meal   \n",
       "2         Sandstorms               Medium                  1        Drinks   \n",
       "3         Sandstorms                  Low                  0        Buffet   \n",
       "4                Fog                  Jam                  1         Snack   \n",
       "\n",
       "  Type_of_vehicle  multiple_deliveries Festival           City  \\\n",
       "0      motorcycle                  3.0       No  Metropolitian   \n",
       "1      motorcycle                  1.0       No  Metropolitian   \n",
       "2         scooter                  1.0       No  Metropolitian   \n",
       "3      motorcycle                  0.0       No  Metropolitian   \n",
       "4         scooter                  1.0       No  Metropolitian   \n",
       "\n",
       "   Time_taken (min)  \n",
       "0                46  \n",
       "1                23  \n",
       "2                21  \n",
       "3                20  \n",
       "4                41  "
      ]
     },
     "execution_count": 4,
     "metadata": {},
     "output_type": "execute_result"
    }
   ],
   "source": [
    "df=pd.read_csv(\"finalTrain.csv\")\n",
    "df.head()"
   ]
  },
  {
   "cell_type": "code",
   "execution_count": 5,
   "id": "bd49a045",
   "metadata": {},
   "outputs": [
    {
     "data": {
      "text/html": [
       "<div>\n",
       "<style scoped>\n",
       "    .dataframe tbody tr th:only-of-type {\n",
       "        vertical-align: middle;\n",
       "    }\n",
       "\n",
       "    .dataframe tbody tr th {\n",
       "        vertical-align: top;\n",
       "    }\n",
       "\n",
       "    .dataframe thead th {\n",
       "        text-align: right;\n",
       "    }\n",
       "</style>\n",
       "<table border=\"1\" class=\"dataframe\">\n",
       "  <thead>\n",
       "    <tr style=\"text-align: right;\">\n",
       "      <th></th>\n",
       "      <th>Delivery_person_Age</th>\n",
       "      <th>Delivery_person_Ratings</th>\n",
       "      <th>Restaurant_latitude</th>\n",
       "      <th>Restaurant_longitude</th>\n",
       "      <th>Delivery_location_latitude</th>\n",
       "      <th>Delivery_location_longitude</th>\n",
       "      <th>Vehicle_condition</th>\n",
       "      <th>multiple_deliveries</th>\n",
       "      <th>Time_taken (min)</th>\n",
       "    </tr>\n",
       "  </thead>\n",
       "  <tbody>\n",
       "    <tr>\n",
       "      <th>count</th>\n",
       "      <td>43730.000000</td>\n",
       "      <td>43676.000000</td>\n",
       "      <td>45584.000000</td>\n",
       "      <td>45584.000000</td>\n",
       "      <td>45584.000000</td>\n",
       "      <td>45584.000000</td>\n",
       "      <td>45584.000000</td>\n",
       "      <td>44591.000000</td>\n",
       "      <td>45584.000000</td>\n",
       "    </tr>\n",
       "    <tr>\n",
       "      <th>mean</th>\n",
       "      <td>29.566911</td>\n",
       "      <td>4.633774</td>\n",
       "      <td>17.017948</td>\n",
       "      <td>70.229684</td>\n",
       "      <td>17.465480</td>\n",
       "      <td>70.844161</td>\n",
       "      <td>1.023385</td>\n",
       "      <td>0.744635</td>\n",
       "      <td>26.293963</td>\n",
       "    </tr>\n",
       "    <tr>\n",
       "      <th>std</th>\n",
       "      <td>5.815064</td>\n",
       "      <td>0.334744</td>\n",
       "      <td>8.185674</td>\n",
       "      <td>22.885575</td>\n",
       "      <td>7.335562</td>\n",
       "      <td>21.120578</td>\n",
       "      <td>0.839055</td>\n",
       "      <td>0.572510</td>\n",
       "      <td>9.384298</td>\n",
       "    </tr>\n",
       "    <tr>\n",
       "      <th>min</th>\n",
       "      <td>15.000000</td>\n",
       "      <td>1.000000</td>\n",
       "      <td>-30.905562</td>\n",
       "      <td>-88.366217</td>\n",
       "      <td>0.010000</td>\n",
       "      <td>0.010000</td>\n",
       "      <td>0.000000</td>\n",
       "      <td>0.000000</td>\n",
       "      <td>10.000000</td>\n",
       "    </tr>\n",
       "    <tr>\n",
       "      <th>25%</th>\n",
       "      <td>25.000000</td>\n",
       "      <td>4.500000</td>\n",
       "      <td>12.933284</td>\n",
       "      <td>73.170000</td>\n",
       "      <td>12.988453</td>\n",
       "      <td>73.280000</td>\n",
       "      <td>0.000000</td>\n",
       "      <td>0.000000</td>\n",
       "      <td>19.000000</td>\n",
       "    </tr>\n",
       "    <tr>\n",
       "      <th>50%</th>\n",
       "      <td>30.000000</td>\n",
       "      <td>4.700000</td>\n",
       "      <td>18.551440</td>\n",
       "      <td>75.897963</td>\n",
       "      <td>18.633934</td>\n",
       "      <td>76.002574</td>\n",
       "      <td>1.000000</td>\n",
       "      <td>1.000000</td>\n",
       "      <td>26.000000</td>\n",
       "    </tr>\n",
       "    <tr>\n",
       "      <th>75%</th>\n",
       "      <td>35.000000</td>\n",
       "      <td>4.900000</td>\n",
       "      <td>22.728163</td>\n",
       "      <td>78.044095</td>\n",
       "      <td>22.785049</td>\n",
       "      <td>78.107044</td>\n",
       "      <td>2.000000</td>\n",
       "      <td>1.000000</td>\n",
       "      <td>32.000000</td>\n",
       "    </tr>\n",
       "    <tr>\n",
       "      <th>max</th>\n",
       "      <td>50.000000</td>\n",
       "      <td>6.000000</td>\n",
       "      <td>30.914057</td>\n",
       "      <td>88.433452</td>\n",
       "      <td>31.054057</td>\n",
       "      <td>88.563452</td>\n",
       "      <td>3.000000</td>\n",
       "      <td>3.000000</td>\n",
       "      <td>54.000000</td>\n",
       "    </tr>\n",
       "  </tbody>\n",
       "</table>\n",
       "</div>"
      ],
      "text/plain": [
       "       Delivery_person_Age  Delivery_person_Ratings  Restaurant_latitude  \\\n",
       "count         43730.000000             43676.000000         45584.000000   \n",
       "mean             29.566911                 4.633774            17.017948   \n",
       "std               5.815064                 0.334744             8.185674   \n",
       "min              15.000000                 1.000000           -30.905562   \n",
       "25%              25.000000                 4.500000            12.933284   \n",
       "50%              30.000000                 4.700000            18.551440   \n",
       "75%              35.000000                 4.900000            22.728163   \n",
       "max              50.000000                 6.000000            30.914057   \n",
       "\n",
       "       Restaurant_longitude  Delivery_location_latitude  \\\n",
       "count          45584.000000                45584.000000   \n",
       "mean              70.229684                   17.465480   \n",
       "std               22.885575                    7.335562   \n",
       "min              -88.366217                    0.010000   \n",
       "25%               73.170000                   12.988453   \n",
       "50%               75.897963                   18.633934   \n",
       "75%               78.044095                   22.785049   \n",
       "max               88.433452                   31.054057   \n",
       "\n",
       "       Delivery_location_longitude  Vehicle_condition  multiple_deliveries  \\\n",
       "count                 45584.000000       45584.000000         44591.000000   \n",
       "mean                     70.844161           1.023385             0.744635   \n",
       "std                      21.120578           0.839055             0.572510   \n",
       "min                       0.010000           0.000000             0.000000   \n",
       "25%                      73.280000           0.000000             0.000000   \n",
       "50%                      76.002574           1.000000             1.000000   \n",
       "75%                      78.107044           2.000000             1.000000   \n",
       "max                      88.563452           3.000000             3.000000   \n",
       "\n",
       "       Time_taken (min)  \n",
       "count      45584.000000  \n",
       "mean          26.293963  \n",
       "std            9.384298  \n",
       "min           10.000000  \n",
       "25%           19.000000  \n",
       "50%           26.000000  \n",
       "75%           32.000000  \n",
       "max           54.000000  "
      ]
     },
     "execution_count": 5,
     "metadata": {},
     "output_type": "execute_result"
    }
   ],
   "source": [
    "df.describe()"
   ]
  },
  {
   "cell_type": "code",
   "execution_count": 6,
   "id": "9f73b613",
   "metadata": {},
   "outputs": [
    {
     "data": {
      "text/plain": [
       "ID                                0\n",
       "Delivery_person_ID                0\n",
       "Delivery_person_Age            1854\n",
       "Delivery_person_Ratings        1908\n",
       "Restaurant_latitude               0\n",
       "Restaurant_longitude              0\n",
       "Delivery_location_latitude        0\n",
       "Delivery_location_longitude       0\n",
       "Order_Date                        0\n",
       "Time_Orderd                    1731\n",
       "Time_Order_picked                 0\n",
       "Weather_conditions              616\n",
       "Road_traffic_density            601\n",
       "Vehicle_condition                 0\n",
       "Type_of_order                     0\n",
       "Type_of_vehicle                   0\n",
       "multiple_deliveries             993\n",
       "Festival                        228\n",
       "City                           1200\n",
       "Time_taken (min)                  0\n",
       "dtype: int64"
      ]
     },
     "execution_count": 6,
     "metadata": {},
     "output_type": "execute_result"
    }
   ],
   "source": [
    "df.isnull().sum()"
   ]
  },
  {
   "cell_type": "code",
   "execution_count": 113,
   "id": "5310ba66",
   "metadata": {},
   "outputs": [
    {
     "data": {
      "text/plain": [
       "Low       2597\n",
       "Jam       2428\n",
       "Medium    1852\n",
       "High       776\n",
       "Name: Road_traffic_density, dtype: int64"
      ]
     },
     "execution_count": 113,
     "metadata": {},
     "output_type": "execute_result"
    }
   ],
   "source": [
    "df[df['Weather_conditions']==\"Fog\"]['Road_traffic_density'].value_counts()"
   ]
  },
  {
   "cell_type": "code",
   "execution_count": 114,
   "id": "325fe7af",
   "metadata": {},
   "outputs": [
    {
     "data": {
      "text/plain": [
       "<AxesSubplot:xlabel='Road_traffic_density', ylabel='Count'>"
      ]
     },
     "execution_count": 114,
     "metadata": {},
     "output_type": "execute_result"
    },
    {
     "data": {
      "image/png": "[encoded data removed]",
      "text/plain": [
       "<Figure size 640x480 with 1 Axes>"
      ]
     },
     "metadata": {},
     "output_type": "display_data"
    }
   ],
   "source": [
    "sns.histplot(df[df['Weather_conditions']==\"Fog\"]['Road_traffic_density'].value_counts())"
   ]
  },
  {
   "cell_type": "code",
   "execution_count": 116,
   "id": "4a72d38f",
   "metadata": {},
   "outputs": [
    {
     "data": {
      "text/plain": [
       "<AxesSubplot:xlabel='Road_traffic_density', ylabel='Count'>"
      ]
     },
     "execution_count": 116,
     "metadata": {},
     "output_type": "execute_result"
    },
    {
     "data": {
      "image/png": "[encoded data removed]",
      "text/plain": [
       "<Figure size 640x480 with 1 Axes>"
      ]
     },
     "metadata": {},
     "output_type": "display_data"
    }
   ],
   "source": [
    "sns.histplot(df[df['Weather_conditions']==\"Sandstorms\"]['Road_traffic_density'].value_counts())"
   ]
  },
  {
   "cell_type": "code",
   "execution_count": null,
   "id": "f131cf89",
   "metadata": {},
   "outputs": [],
   "source": []
  },
  {
   "cell_type": "code",
   "execution_count": null,
   "id": "c9607be8",
   "metadata": {},
   "outputs": [],
   "source": []
  },
  {
   "cell_type": "code",
   "execution_count": null,
   "id": "194217ea",
   "metadata": {},
   "outputs": [],
   "source": []
  },
  {
   "cell_type": "code",
   "execution_count": null,
   "id": "74288668",
   "metadata": {},
   "outputs": [],
   "source": []
  },
  {
   "cell_type": "code",
   "execution_count": 24,
   "id": "7175bfe9",
   "metadata": {},
   "outputs": [],
   "source": [
    "import seaborn as sns"
   ]
  },
  {
   "cell_type": "code",
   "execution_count": 57,
   "id": "0b1959c4",
   "metadata": {},
   "outputs": [
    {
     "data": {
      "text/html": [
       "<div>\n",
       "<style scoped>\n",
       "    .dataframe tbody tr th:only-of-type {\n",
       "        vertical-align: middle;\n",
       "    }\n",
       "\n",
       "    .dataframe tbody tr th {\n",
       "        vertical-align: top;\n",
       "    }\n",
       "\n",
       "    .dataframe thead th {\n",
       "        text-align: right;\n",
       "    }\n",
       "</style>\n",
       "<table border=\"1\" class=\"dataframe\">\n",
       "  <thead>\n",
       "    <tr style=\"text-align: right;\">\n",
       "      <th></th>\n",
       "      <th>Delivery_person_Age</th>\n",
       "      <th>Delivery_person_Ratings</th>\n",
       "      <th>Time_Orderd</th>\n",
       "      <th>Weather_conditions</th>\n",
       "      <th>Road_traffic_density</th>\n",
       "      <th>multiple_deliveries</th>\n",
       "      <th>Festival</th>\n",
       "      <th>City</th>\n",
       "    </tr>\n",
       "  </thead>\n",
       "  <tbody>\n",
       "    <tr>\n",
       "      <th>0</th>\n",
       "      <td>36.0</td>\n",
       "      <td>4.2</td>\n",
       "      <td>21:55</td>\n",
       "      <td>Fog</td>\n",
       "      <td>Jam</td>\n",
       "      <td>3.0</td>\n",
       "      <td>No</td>\n",
       "      <td>Metropolitian</td>\n",
       "    </tr>\n",
       "    <tr>\n",
       "      <th>1</th>\n",
       "      <td>21.0</td>\n",
       "      <td>4.7</td>\n",
       "      <td>14:55</td>\n",
       "      <td>Stormy</td>\n",
       "      <td>High</td>\n",
       "      <td>1.0</td>\n",
       "      <td>No</td>\n",
       "      <td>Metropolitian</td>\n",
       "    </tr>\n",
       "    <tr>\n",
       "      <th>2</th>\n",
       "      <td>23.0</td>\n",
       "      <td>4.7</td>\n",
       "      <td>17:30</td>\n",
       "      <td>Sandstorms</td>\n",
       "      <td>Medium</td>\n",
       "      <td>1.0</td>\n",
       "      <td>No</td>\n",
       "      <td>Metropolitian</td>\n",
       "    </tr>\n",
       "    <tr>\n",
       "      <th>3</th>\n",
       "      <td>34.0</td>\n",
       "      <td>4.3</td>\n",
       "      <td>09:20</td>\n",
       "      <td>Sandstorms</td>\n",
       "      <td>Low</td>\n",
       "      <td>0.0</td>\n",
       "      <td>No</td>\n",
       "      <td>Metropolitian</td>\n",
       "    </tr>\n",
       "    <tr>\n",
       "      <th>4</th>\n",
       "      <td>24.0</td>\n",
       "      <td>4.7</td>\n",
       "      <td>19:50</td>\n",
       "      <td>Fog</td>\n",
       "      <td>Jam</td>\n",
       "      <td>1.0</td>\n",
       "      <td>No</td>\n",
       "      <td>Metropolitian</td>\n",
       "    </tr>\n",
       "    <tr>\n",
       "      <th>...</th>\n",
       "      <td>...</td>\n",
       "      <td>...</td>\n",
       "      <td>...</td>\n",
       "      <td>...</td>\n",
       "      <td>...</td>\n",
       "      <td>...</td>\n",
       "      <td>...</td>\n",
       "      <td>...</td>\n",
       "    </tr>\n",
       "    <tr>\n",
       "      <th>45579</th>\n",
       "      <td>30.0</td>\n",
       "      <td>4.8</td>\n",
       "      <td>11:35</td>\n",
       "      <td>Windy</td>\n",
       "      <td>High</td>\n",
       "      <td>0.0</td>\n",
       "      <td>No</td>\n",
       "      <td>Metropolitian</td>\n",
       "    </tr>\n",
       "    <tr>\n",
       "      <th>45580</th>\n",
       "      <td>21.0</td>\n",
       "      <td>4.6</td>\n",
       "      <td>19:55</td>\n",
       "      <td>Windy</td>\n",
       "      <td>Jam</td>\n",
       "      <td>1.0</td>\n",
       "      <td>No</td>\n",
       "      <td>Metropolitian</td>\n",
       "    </tr>\n",
       "    <tr>\n",
       "      <th>45581</th>\n",
       "      <td>30.0</td>\n",
       "      <td>4.9</td>\n",
       "      <td>23:50</td>\n",
       "      <td>Cloudy</td>\n",
       "      <td>Low</td>\n",
       "      <td>0.0</td>\n",
       "      <td>No</td>\n",
       "      <td>Metropolitian</td>\n",
       "    </tr>\n",
       "    <tr>\n",
       "      <th>45582</th>\n",
       "      <td>20.0</td>\n",
       "      <td>4.7</td>\n",
       "      <td>13:35</td>\n",
       "      <td>Cloudy</td>\n",
       "      <td>High</td>\n",
       "      <td>1.0</td>\n",
       "      <td>No</td>\n",
       "      <td>Metropolitian</td>\n",
       "    </tr>\n",
       "    <tr>\n",
       "      <th>45583</th>\n",
       "      <td>23.0</td>\n",
       "      <td>4.9</td>\n",
       "      <td>17:10</td>\n",
       "      <td>Fog</td>\n",
       "      <td>Medium</td>\n",
       "      <td>1.0</td>\n",
       "      <td>No</td>\n",
       "      <td>Metropolitian</td>\n",
       "    </tr>\n",
       "  </tbody>\n",
       "</table>\n",
       "<p>45584 rows × 8 columns</p>\n",
       "</div>"
      ],
      "text/plain": [
       "       Delivery_person_Age  Delivery_person_Ratings Time_Orderd  \\\n",
       "0                     36.0                      4.2       21:55   \n",
       "1                     21.0                      4.7       14:55   \n",
       "2                     23.0                      4.7       17:30   \n",
       "3                     34.0                      4.3       09:20   \n",
       "4                     24.0                      4.7       19:50   \n",
       "...                    ...                      ...         ...   \n",
       "45579                 30.0                      4.8       11:35   \n",
       "45580                 21.0                      4.6       19:55   \n",
       "45581                 30.0                      4.9       23:50   \n",
       "45582                 20.0                      4.7       13:35   \n",
       "45583                 23.0                      4.9       17:10   \n",
       "\n",
       "      Weather_conditions Road_traffic_density  multiple_deliveries Festival  \\\n",
       "0                    Fog                  Jam                  3.0       No   \n",
       "1                 Stormy                 High                  1.0       No   \n",
       "2             Sandstorms               Medium                  1.0       No   \n",
       "3             Sandstorms                  Low                  0.0       No   \n",
       "4                    Fog                  Jam                  1.0       No   \n",
       "...                  ...                  ...                  ...      ...   \n",
       "45579              Windy                 High                  0.0       No   \n",
       "45580              Windy                  Jam                  1.0       No   \n",
       "45581             Cloudy                  Low                  0.0       No   \n",
       "45582             Cloudy                 High                  1.0       No   \n",
       "45583                Fog               Medium                  1.0       No   \n",
       "\n",
       "                City  \n",
       "0      Metropolitian  \n",
       "1      Metropolitian  \n",
       "2      Metropolitian  \n",
       "3      Metropolitian  \n",
       "4      Metropolitian  \n",
       "...              ...  \n",
       "45579  Metropolitian  \n",
       "45580  Metropolitian  \n",
       "45581  Metropolitian  \n",
       "45582  Metropolitian  \n",
       "45583  Metropolitian  \n",
       "\n",
       "[45584 rows x 8 columns]"
      ]
     },
     "execution_count": 57,
     "metadata": {},
     "output_type": "execute_result"
    }
   ],
   "source": [
    "null_cols = df.isnull().any(axis=0)\n",
    "null_cols_list = null_cols[null_cols].index.tolist()\n",
    "null_df = df[null_cols_list]\n",
    "null_df"
   ]
  },
  {
   "cell_type": "markdown",
   "id": "141b60ac",
   "metadata": {},
   "source": [
    "# There are 8 features in the dataset that have nan values"
   ]
  },
  {
   "cell_type": "code",
   "execution_count": 26,
   "id": "b726d985",
   "metadata": {},
   "outputs": [
    {
     "data": {
      "text/plain": [
       "Index(['Delivery_person_Age', 'Delivery_person_Ratings', 'Time_Orderd',\n",
       "       'Weather_conditions', 'Road_traffic_density', 'multiple_deliveries',\n",
       "       'Festival', 'City'],\n",
       "      dtype='object')"
      ]
     },
     "execution_count": 26,
     "metadata": {},
     "output_type": "execute_result"
    }
   ],
   "source": [
    "null_df.columns"
   ]
  },
  {
   "cell_type": "code",
   "execution_count": 79,
   "id": "f5297f5c",
   "metadata": {},
   "outputs": [
    {
     "data": {
      "text/plain": [
       "<seaborn.axisgrid.PairGrid at 0x20a151b1bb0>"
      ]
     },
     "execution_count": 79,
     "metadata": {},
     "output_type": "execute_result"
    },
    {
     "data": {
      "image/png": "[encoded data removed]",
      "text/plain": [
       "<Figure size 750x750 with 12 Axes>"
      ]
     },
     "metadata": {},
     "output_type": "display_data"
    }
   ],
   "source": [
    "sns.pairplot(null_df)"
   ]
  },
  {
   "cell_type": "code",
   "execution_count": 27,
   "id": "630d9714",
   "metadata": {},
   "outputs": [
    {
     "data": {
      "text/plain": [
       "Delivery_person_Age        float64\n",
       "Delivery_person_Ratings    float64\n",
       "Time_Orderd                 object\n",
       "Weather_conditions          object\n",
       "Road_traffic_density        object\n",
       "multiple_deliveries        float64\n",
       "Festival                    object\n",
       "City                        object\n",
       "dtype: object"
      ]
     },
     "execution_count": 27,
     "metadata": {},
     "output_type": "execute_result"
    }
   ],
   "source": [
    "null_df.dtypes"
   ]
  },
  {
   "cell_type": "code",
   "execution_count": 28,
   "id": "43c26612",
   "metadata": {},
   "outputs": [
    {
     "data": {
      "text/plain": [
       "1854"
      ]
     },
     "execution_count": 28,
     "metadata": {},
     "output_type": "execute_result"
    }
   ],
   "source": [
    "#Lets handle the null values of Delivery_person_Age\n",
    "null_df['Delivery_person_Age'].isnull().sum()"
   ]
  },
  {
   "cell_type": "code",
   "execution_count": 29,
   "id": "4bd5c372",
   "metadata": {},
   "outputs": [
    {
     "data": {
      "text/plain": [
       "<AxesSubplot:xlabel='Delivery_person_Age', ylabel='Count'>"
      ]
     },
     "execution_count": 29,
     "metadata": {},
     "output_type": "execute_result"
    },
    {
     "data": {
      "image/png": "[encoded data removed]",
      "text/plain": [
       "<Figure size 640x480 with 1 Axes>"
      ]
     },
     "metadata": {},
     "output_type": "display_data"
    }
   ],
   "source": [
    "sns.histplot(null_df['Delivery_person_Age'])"
   ]
  },
  {
   "cell_type": "code",
   "execution_count": 30,
   "id": "bb120389",
   "metadata": {},
   "outputs": [
    {
     "data": {
      "text/plain": [
       "<AxesSubplot:xlabel='Delivery_person_Age'>"
      ]
     },
     "execution_count": 30,
     "metadata": {},
     "output_type": "execute_result"
    },
    {
     "data": {
      "image/png": "[encoded data removed]",
      "text/plain": [
       "<Figure size 640x480 with 1 Axes>"
      ]
     },
     "metadata": {},
     "output_type": "display_data"
    }
   ],
   "source": [
    "sns.boxplot(null_df['Delivery_person_Age'])"
   ]
  },
  {
   "cell_type": "markdown",
   "id": "e5a160d3",
   "metadata": {},
   "source": [
    "# Since there is no outliers in Age feature we can replcae with mean of the age"
   ]
  },
  {
   "cell_type": "code",
   "execution_count": 58,
   "id": "60fb0aa8",
   "metadata": {},
   "outputs": [],
   "source": [
    "import warnings\n",
    "warnings.filterwarnings(\"ignore\")\n",
    "null_df['Delivery_person_Age']=null_df['Delivery_person_Age'].fillna(np.mean(null_df['Delivery_person_Age']))"
   ]
  },
  {
   "cell_type": "code",
   "execution_count": 59,
   "id": "c08c21df",
   "metadata": {},
   "outputs": [
    {
     "data": {
      "text/plain": [
       "0"
      ]
     },
     "execution_count": 59,
     "metadata": {},
     "output_type": "execute_result"
    }
   ],
   "source": [
    "#null values handled of age column\n",
    "null_df['Delivery_person_Age'].isnull().sum()"
   ]
  },
  {
   "cell_type": "code",
   "execution_count": 33,
   "id": "ca87cccc",
   "metadata": {},
   "outputs": [
    {
     "data": {
      "text/plain": [
       "Delivery_person_Age           0\n",
       "Delivery_person_Ratings    1908\n",
       "Time_Orderd                1731\n",
       "Weather_conditions          616\n",
       "Road_traffic_density        601\n",
       "multiple_deliveries         993\n",
       "Festival                    228\n",
       "City                       1200\n",
       "dtype: int64"
      ]
     },
     "execution_count": 33,
     "metadata": {},
     "output_type": "execute_result"
    }
   ],
   "source": [
    "null_df.isnull().sum()"
   ]
  },
  {
   "cell_type": "markdown",
   "id": "299dd19c",
   "metadata": {},
   "source": [
    "# 2.Now we handle the null values of Delivery_person_Ratings    "
   ]
  },
  {
   "cell_type": "code",
   "execution_count": 44,
   "id": "404e97a2",
   "metadata": {},
   "outputs": [
    {
     "data": {
      "text/plain": [
       "0"
      ]
     },
     "execution_count": 44,
     "metadata": {},
     "output_type": "execute_result"
    }
   ],
   "source": [
    "null_df['Delivery_person_Ratings'].isnull().sum()"
   ]
  },
  {
   "cell_type": "code",
   "execution_count": 35,
   "id": "55d1a603",
   "metadata": {},
   "outputs": [
    {
     "data": {
      "text/plain": [
       "4.8    7146\n",
       "4.7    7140\n",
       "4.9    7040\n",
       "4.6    6938\n",
       "5.0    3996\n",
       "4.5    3302\n",
       "4.1    1430\n",
       "4.2    1418\n",
       "4.3    1409\n",
       "4.4    1360\n",
       "4.0    1077\n",
       "3.5     249\n",
       "3.8     228\n",
       "3.7     225\n",
       "3.6     207\n",
       "3.9     197\n",
       "6.0      53\n",
       "1.0      38\n",
       "3.4      32\n",
       "3.1      29\n",
       "3.2      29\n",
       "3.3      25\n",
       "2.6      22\n",
       "2.7      22\n",
       "2.5      20\n",
       "2.8      19\n",
       "2.9      19\n",
       "3.0       6\n",
       "Name: Delivery_person_Ratings, dtype: int64"
      ]
     },
     "execution_count": 35,
     "metadata": {},
     "output_type": "execute_result"
    }
   ],
   "source": [
    "null_df['Delivery_person_Ratings'].value_counts()"
   ]
  },
  {
   "cell_type": "code",
   "execution_count": 36,
   "id": "ce6819af",
   "metadata": {},
   "outputs": [
    {
     "data": {
      "text/plain": [
       "<AxesSubplot:xlabel='Delivery_person_Ratings', ylabel='Count'>"
      ]
     },
     "execution_count": 36,
     "metadata": {},
     "output_type": "execute_result"
    },
    {
     "data": {
      "image/png": "[encoded data removed]",
      "text/plain": [
       "<Figure size 640x480 with 1 Axes>"
      ]
     },
     "metadata": {},
     "output_type": "display_data"
    }
   ],
   "source": [
    "sns.histplot(null_df['Delivery_person_Ratings'],kde=True)"
   ]
  },
  {
   "cell_type": "code",
   "execution_count": 37,
   "id": "8eaf8336",
   "metadata": {},
   "outputs": [
    {
     "data": {
      "text/plain": [
       "<AxesSubplot:xlabel='Delivery_person_Ratings'>"
      ]
     },
     "execution_count": 37,
     "metadata": {},
     "output_type": "execute_result"
    },
    {
     "data": {
      "image/png": "[encoded data removed]",
      "text/plain": [
       "<Figure size 640x480 with 1 Axes>"
      ]
     },
     "metadata": {},
     "output_type": "display_data"
    }
   ],
   "source": [
    "sns.boxplot(null_df['Delivery_person_Ratings'])"
   ]
  },
  {
   "cell_type": "code",
   "execution_count": 47,
   "id": "eb1acd58",
   "metadata": {},
   "outputs": [
    {
     "data": {
      "text/plain": [
       "4.7"
      ]
     },
     "execution_count": 47,
     "metadata": {},
     "output_type": "execute_result"
    }
   ],
   "source": [
    "null_df['Delivery_person_Ratings'].median()"
   ]
  },
  {
   "cell_type": "code",
   "execution_count": 60,
   "id": "4d4103de",
   "metadata": {},
   "outputs": [
    {
     "data": {
      "text/plain": [
       "4.7    9048\n",
       "4.8    7146\n",
       "4.9    7040\n",
       "4.6    6938\n",
       "5.0    3996\n",
       "4.5    3302\n",
       "4.1    1430\n",
       "4.2    1418\n",
       "4.3    1409\n",
       "4.4    1360\n",
       "4.0    1077\n",
       "3.5     249\n",
       "3.8     228\n",
       "3.7     225\n",
       "3.6     207\n",
       "3.9     197\n",
       "6.0      53\n",
       "1.0      38\n",
       "3.4      32\n",
       "3.1      29\n",
       "3.2      29\n",
       "3.3      25\n",
       "2.6      22\n",
       "2.7      22\n",
       "2.5      20\n",
       "2.8      19\n",
       "2.9      19\n",
       "3.0       6\n",
       "Name: Delivery_person_Ratings, dtype: int64"
      ]
     },
     "execution_count": 60,
     "metadata": {},
     "output_type": "execute_result"
    }
   ],
   "source": [
    "#To many ouyliers we can replace ratings with median of Ratings\n",
    "null_df['Delivery_person_Ratings']=null_df['Delivery_person_Ratings'].fillna(null_df['Delivery_person_Ratings'].median())\n",
    "null_df['Delivery_person_Ratings'].value_counts()"
   ]
  },
  {
   "cell_type": "code",
   "execution_count": 61,
   "id": "41932552",
   "metadata": {},
   "outputs": [
    {
     "data": {
      "text/plain": [
       "<AxesSubplot:xlabel='Delivery_person_Ratings', ylabel='Count'>"
      ]
     },
     "execution_count": 61,
     "metadata": {},
     "output_type": "execute_result"
    },
    {
     "data": {
      "image/png": "[encoded data removed]",
      "text/plain": [
       "<Figure size 640x480 with 1 Axes>"
      ]
     },
     "metadata": {},
     "output_type": "display_data"
    }
   ],
   "source": [
    "sns.histplot(null_df['Delivery_person_Ratings'])"
   ]
  },
  {
   "cell_type": "code",
   "execution_count": 62,
   "id": "9dcb6bde",
   "metadata": {},
   "outputs": [
    {
     "data": {
      "text/plain": [
       "0"
      ]
     },
     "execution_count": 62,
     "metadata": {},
     "output_type": "execute_result"
    }
   ],
   "source": [
    "null_df['Delivery_person_Ratings'].isnull().sum()"
   ]
  },
  {
   "cell_type": "code",
   "execution_count": 51,
   "id": "69b0de75",
   "metadata": {},
   "outputs": [
    {
     "data": {
      "text/plain": [
       "Delivery_person_Age        1854\n",
       "Delivery_person_Ratings       0\n",
       "Time_Orderd                1731\n",
       "Weather_conditions          616\n",
       "Road_traffic_density        601\n",
       "multiple_deliveries         993\n",
       "Festival                    228\n",
       "City                       1200\n",
       "dtype: int64"
      ]
     },
     "execution_count": 51,
     "metadata": {},
     "output_type": "execute_result"
    }
   ],
   "source": [
    "null_df.isnull().sum()"
   ]
  },
  {
   "cell_type": "markdown",
   "id": "92926832",
   "metadata": {},
   "source": [
    "# 3.Now handle the null values of Time_Ordered(Object dataType)\n"
   ]
  },
  {
   "cell_type": "code",
   "execution_count": 52,
   "id": "45fe0f06",
   "metadata": {},
   "outputs": [
    {
     "data": {
      "text/plain": [
       "Delivery_person_Age        float64\n",
       "Delivery_person_Ratings    float64\n",
       "Time_Orderd                 object\n",
       "Weather_conditions          object\n",
       "Road_traffic_density        object\n",
       "multiple_deliveries        float64\n",
       "Festival                    object\n",
       "City                        object\n",
       "dtype: object"
      ]
     },
     "execution_count": 52,
     "metadata": {},
     "output_type": "execute_result"
    }
   ],
   "source": [
    "null_df.dtypes"
   ]
  },
  {
   "cell_type": "code",
   "execution_count": 53,
   "id": "1e2b6303",
   "metadata": {},
   "outputs": [
    {
     "data": {
      "text/plain": [
       "0    21:55\n",
       "1    14:55\n",
       "2    17:30\n",
       "3    09:20\n",
       "4    19:50\n",
       "Name: Time_Orderd, dtype: object"
      ]
     },
     "execution_count": 53,
     "metadata": {},
     "output_type": "execute_result"
    }
   ],
   "source": [
    "null_df['Time_Orderd'].head()"
   ]
  },
  {
   "cell_type": "code",
   "execution_count": 63,
   "id": "bee2ba47",
   "metadata": {},
   "outputs": [],
   "source": [
    "null_df['Time_Ordered_hr']=null_df['Time_Orderd'].str.split(\":\").str[0]\n",
    "null_df['Time_Ordered_min']=null_df['Time_Orderd'].str.split(\":\").str[1]"
   ]
  },
  {
   "cell_type": "code",
   "execution_count": 64,
   "id": "ff7317f4",
   "metadata": {},
   "outputs": [
    {
     "data": {
      "text/html": [
       "<div>\n",
       "<style scoped>\n",
       "    .dataframe tbody tr th:only-of-type {\n",
       "        vertical-align: middle;\n",
       "    }\n",
       "\n",
       "    .dataframe tbody tr th {\n",
       "        vertical-align: top;\n",
       "    }\n",
       "\n",
       "    .dataframe thead th {\n",
       "        text-align: right;\n",
       "    }\n",
       "</style>\n",
       "<table border=\"1\" class=\"dataframe\">\n",
       "  <thead>\n",
       "    <tr style=\"text-align: right;\">\n",
       "      <th></th>\n",
       "      <th>Delivery_person_Age</th>\n",
       "      <th>Delivery_person_Ratings</th>\n",
       "      <th>Time_Orderd</th>\n",
       "      <th>Weather_conditions</th>\n",
       "      <th>Road_traffic_density</th>\n",
       "      <th>multiple_deliveries</th>\n",
       "      <th>Festival</th>\n",
       "      <th>City</th>\n",
       "      <th>Time_Ordered_hr</th>\n",
       "      <th>Time_Ordered_min</th>\n",
       "    </tr>\n",
       "  </thead>\n",
       "  <tbody>\n",
       "    <tr>\n",
       "      <th>0</th>\n",
       "      <td>36.0</td>\n",
       "      <td>4.2</td>\n",
       "      <td>21:55</td>\n",
       "      <td>Fog</td>\n",
       "      <td>Jam</td>\n",
       "      <td>3.0</td>\n",
       "      <td>No</td>\n",
       "      <td>Metropolitian</td>\n",
       "      <td>21</td>\n",
       "      <td>55</td>\n",
       "    </tr>\n",
       "    <tr>\n",
       "      <th>1</th>\n",
       "      <td>21.0</td>\n",
       "      <td>4.7</td>\n",
       "      <td>14:55</td>\n",
       "      <td>Stormy</td>\n",
       "      <td>High</td>\n",
       "      <td>1.0</td>\n",
       "      <td>No</td>\n",
       "      <td>Metropolitian</td>\n",
       "      <td>14</td>\n",
       "      <td>55</td>\n",
       "    </tr>\n",
       "    <tr>\n",
       "      <th>2</th>\n",
       "      <td>23.0</td>\n",
       "      <td>4.7</td>\n",
       "      <td>17:30</td>\n",
       "      <td>Sandstorms</td>\n",
       "      <td>Medium</td>\n",
       "      <td>1.0</td>\n",
       "      <td>No</td>\n",
       "      <td>Metropolitian</td>\n",
       "      <td>17</td>\n",
       "      <td>30</td>\n",
       "    </tr>\n",
       "    <tr>\n",
       "      <th>3</th>\n",
       "      <td>34.0</td>\n",
       "      <td>4.3</td>\n",
       "      <td>09:20</td>\n",
       "      <td>Sandstorms</td>\n",
       "      <td>Low</td>\n",
       "      <td>0.0</td>\n",
       "      <td>No</td>\n",
       "      <td>Metropolitian</td>\n",
       "      <td>09</td>\n",
       "      <td>20</td>\n",
       "    </tr>\n",
       "    <tr>\n",
       "      <th>4</th>\n",
       "      <td>24.0</td>\n",
       "      <td>4.7</td>\n",
       "      <td>19:50</td>\n",
       "      <td>Fog</td>\n",
       "      <td>Jam</td>\n",
       "      <td>1.0</td>\n",
       "      <td>No</td>\n",
       "      <td>Metropolitian</td>\n",
       "      <td>19</td>\n",
       "      <td>50</td>\n",
       "    </tr>\n",
       "  </tbody>\n",
       "</table>\n",
       "</div>"
      ],
      "text/plain": [
       "   Delivery_person_Age  Delivery_person_Ratings Time_Orderd  \\\n",
       "0                 36.0                      4.2       21:55   \n",
       "1                 21.0                      4.7       14:55   \n",
       "2                 23.0                      4.7       17:30   \n",
       "3                 34.0                      4.3       09:20   \n",
       "4                 24.0                      4.7       19:50   \n",
       "\n",
       "  Weather_conditions Road_traffic_density  multiple_deliveries Festival  \\\n",
       "0                Fog                  Jam                  3.0       No   \n",
       "1             Stormy                 High                  1.0       No   \n",
       "2         Sandstorms               Medium                  1.0       No   \n",
       "3         Sandstorms                  Low                  0.0       No   \n",
       "4                Fog                  Jam                  1.0       No   \n",
       "\n",
       "            City Time_Ordered_hr Time_Ordered_min  \n",
       "0  Metropolitian              21               55  \n",
       "1  Metropolitian              14               55  \n",
       "2  Metropolitian              17               30  \n",
       "3  Metropolitian              09               20  \n",
       "4  Metropolitian              19               50  "
      ]
     },
     "execution_count": 64,
     "metadata": {},
     "output_type": "execute_result"
    }
   ],
   "source": [
    "null_df.head()"
   ]
  },
  {
   "cell_type": "code",
   "execution_count": 72,
   "id": "4eaaa34a",
   "metadata": {},
   "outputs": [],
   "source": [
    "null_df.drop(['Time_Orderd'],axis=1,inplace=True)"
   ]
  },
  {
   "cell_type": "code",
   "execution_count": 74,
   "id": "d43376a3",
   "metadata": {},
   "outputs": [
    {
     "data": {
      "text/html": [
       "<div>\n",
       "<style scoped>\n",
       "    .dataframe tbody tr th:only-of-type {\n",
       "        vertical-align: middle;\n",
       "    }\n",
       "\n",
       "    .dataframe tbody tr th {\n",
       "        vertical-align: top;\n",
       "    }\n",
       "\n",
       "    .dataframe thead th {\n",
       "        text-align: right;\n",
       "    }\n",
       "</style>\n",
       "<table border=\"1\" class=\"dataframe\">\n",
       "  <thead>\n",
       "    <tr style=\"text-align: right;\">\n",
       "      <th></th>\n",
       "      <th>Delivery_person_Age</th>\n",
       "      <th>Delivery_person_Ratings</th>\n",
       "      <th>Weather_conditions</th>\n",
       "      <th>Road_traffic_density</th>\n",
       "      <th>multiple_deliveries</th>\n",
       "      <th>Festival</th>\n",
       "      <th>City</th>\n",
       "      <th>Time_Ordered_hr</th>\n",
       "      <th>Time_Ordered_min</th>\n",
       "    </tr>\n",
       "  </thead>\n",
       "  <tbody>\n",
       "    <tr>\n",
       "      <th>0</th>\n",
       "      <td>36.0</td>\n",
       "      <td>4.2</td>\n",
       "      <td>Fog</td>\n",
       "      <td>Jam</td>\n",
       "      <td>3.0</td>\n",
       "      <td>No</td>\n",
       "      <td>Metropolitian</td>\n",
       "      <td>21</td>\n",
       "      <td>55</td>\n",
       "    </tr>\n",
       "    <tr>\n",
       "      <th>1</th>\n",
       "      <td>21.0</td>\n",
       "      <td>4.7</td>\n",
       "      <td>Stormy</td>\n",
       "      <td>High</td>\n",
       "      <td>1.0</td>\n",
       "      <td>No</td>\n",
       "      <td>Metropolitian</td>\n",
       "      <td>14</td>\n",
       "      <td>55</td>\n",
       "    </tr>\n",
       "    <tr>\n",
       "      <th>2</th>\n",
       "      <td>23.0</td>\n",
       "      <td>4.7</td>\n",
       "      <td>Sandstorms</td>\n",
       "      <td>Medium</td>\n",
       "      <td>1.0</td>\n",
       "      <td>No</td>\n",
       "      <td>Metropolitian</td>\n",
       "      <td>17</td>\n",
       "      <td>30</td>\n",
       "    </tr>\n",
       "    <tr>\n",
       "      <th>3</th>\n",
       "      <td>34.0</td>\n",
       "      <td>4.3</td>\n",
       "      <td>Sandstorms</td>\n",
       "      <td>Low</td>\n",
       "      <td>0.0</td>\n",
       "      <td>No</td>\n",
       "      <td>Metropolitian</td>\n",
       "      <td>09</td>\n",
       "      <td>20</td>\n",
       "    </tr>\n",
       "    <tr>\n",
       "      <th>4</th>\n",
       "      <td>24.0</td>\n",
       "      <td>4.7</td>\n",
       "      <td>Fog</td>\n",
       "      <td>Jam</td>\n",
       "      <td>1.0</td>\n",
       "      <td>No</td>\n",
       "      <td>Metropolitian</td>\n",
       "      <td>19</td>\n",
       "      <td>50</td>\n",
       "    </tr>\n",
       "  </tbody>\n",
       "</table>\n",
       "</div>"
      ],
      "text/plain": [
       "   Delivery_person_Age  Delivery_person_Ratings Weather_conditions  \\\n",
       "0                 36.0                      4.2                Fog   \n",
       "1                 21.0                      4.7             Stormy   \n",
       "2                 23.0                      4.7         Sandstorms   \n",
       "3                 34.0                      4.3         Sandstorms   \n",
       "4                 24.0                      4.7                Fog   \n",
       "\n",
       "  Road_traffic_density  multiple_deliveries Festival           City  \\\n",
       "0                  Jam                  3.0       No  Metropolitian   \n",
       "1                 High                  1.0       No  Metropolitian   \n",
       "2               Medium                  1.0       No  Metropolitian   \n",
       "3                  Low                  0.0       No  Metropolitian   \n",
       "4                  Jam                  1.0       No  Metropolitian   \n",
       "\n",
       "  Time_Ordered_hr Time_Ordered_min  \n",
       "0              21               55  \n",
       "1              14               55  \n",
       "2              17               30  \n",
       "3              09               20  \n",
       "4              19               50  "
      ]
     },
     "execution_count": 74,
     "metadata": {},
     "output_type": "execute_result"
    }
   ],
   "source": [
    "null_df.head()"
   ]
  },
  {
   "cell_type": "code",
   "execution_count": 75,
   "id": "4c7df181",
   "metadata": {},
   "outputs": [
    {
     "data": {
      "text/plain": [
       "Delivery_person_Age           0\n",
       "Delivery_person_Ratings       0\n",
       "Weather_conditions          616\n",
       "Road_traffic_density        601\n",
       "multiple_deliveries         993\n",
       "Festival                    228\n",
       "City                       1200\n",
       "Time_Ordered_hr            1731\n",
       "Time_Ordered_min           5799\n",
       "dtype: int64"
      ]
     },
     "execution_count": 75,
     "metadata": {},
     "output_type": "execute_result"
    }
   ],
   "source": [
    "null_df.isnull().sum()"
   ]
  },
  {
   "cell_type": "markdown",
   "id": "4e78f0dd",
   "metadata": {},
   "source": [
    "# null_df.head()"
   ]
  },
  {
   "cell_type": "markdown",
   "id": "ef9bc1c2",
   "metadata": {},
   "source": [
    "\n",
    "# 4.Handle the nan values of Weather_conditions          "
   ]
  },
  {
   "cell_type": "code",
   "execution_count": 76,
   "id": "10975f6e",
   "metadata": {},
   "outputs": [
    {
     "data": {
      "text/plain": [
       "Fog           7653\n",
       "Stormy        7584\n",
       "Cloudy        7533\n",
       "Sandstorms    7494\n",
       "Windy         7422\n",
       "Sunny         7282\n",
       "Name: Weather_conditions, dtype: int64"
      ]
     },
     "execution_count": 76,
     "metadata": {},
     "output_type": "execute_result"
    }
   ],
   "source": [
    "null_df['Weather_conditions'].value_counts()"
   ]
  },
  {
   "cell_type": "code",
   "execution_count": 77,
   "id": "2fc002db",
   "metadata": {},
   "outputs": [
    {
     "data": {
      "text/plain": [
       "<AxesSubplot:xlabel='Weather_conditions', ylabel='Count'>"
      ]
     },
     "execution_count": 77,
     "metadata": {},
     "output_type": "execute_result"
    },
    {
     "data": {
      "image/png": "[encoded data removed]",
      "text/plain": [
       "<Figure size 640x480 with 1 Axes>"
      ]
     },
     "metadata": {},
     "output_type": "display_data"
    }
   ],
   "source": [
    "sns.histplot(null_df['Weather_conditions'])"
   ]
  },
  {
   "cell_type": "markdown",
   "id": "d042e763",
   "metadata": {},
   "source": [
    "# In Weather_conditions either we can drop nan values or can replace ith any one of the weather condition"
   ]
  },
  {
   "cell_type": "markdown",
   "id": "4da3cc7e",
   "metadata": {},
   "source": [
    "# 5.handle the nan values of Road_traffic_density        "
   ]
  },
  {
   "cell_type": "code",
   "execution_count": 82,
   "id": "40518225",
   "metadata": {},
   "outputs": [
    {
     "data": {
      "text/plain": [
       "Low       15476\n",
       "Jam       14139\n",
       "Medium    10945\n",
       "High       4423\n",
       "Name: Road_traffic_density, dtype: int64"
      ]
     },
     "execution_count": 82,
     "metadata": {},
     "output_type": "execute_result"
    }
   ],
   "source": [
    "null_df['Road_traffic_density'].value_counts()"
   ]
  },
  {
   "cell_type": "code",
   "execution_count": 83,
   "id": "aef2231e",
   "metadata": {},
   "outputs": [
    {
     "data": {
      "text/plain": [
       "<AxesSubplot:xlabel='Road_traffic_density', ylabel='Count'>"
      ]
     },
     "execution_count": 83,
     "metadata": {},
     "output_type": "execute_result"
    },
    {
     "data": {
      "image/png": "[encoded data removed]",
      "text/plain": [
       "<Figure size 640x480 with 1 Axes>"
      ]
     },
     "metadata": {},
     "output_type": "display_data"
    }
   ],
   "source": [
    "sns.histplot(df['Road_traffic_density'])"
   ]
  },
  {
   "cell_type": "code",
   "execution_count": 91,
   "id": "30c0daab",
   "metadata": {},
   "outputs": [],
   "source": [
    "#Replace nan values with low\n",
    "null_df['Road_traffic_density']=null_df['Road_traffic_density'].fillna(\"Low\")"
   ]
  },
  {
   "cell_type": "code",
   "execution_count": 92,
   "id": "e283de15",
   "metadata": {},
   "outputs": [
    {
     "data": {
      "text/plain": [
       "<AxesSubplot:xlabel='Road_traffic_density', ylabel='Count'>"
      ]
     },
     "execution_count": 92,
     "metadata": {},
     "output_type": "execute_result"
    },
    {
     "data": {
      "image/png": "[encoded data removed]",
      "text/plain": [
       "<Figure size 640x480 with 1 Axes>"
      ]
     },
     "metadata": {},
     "output_type": "display_data"
    }
   ],
   "source": [
    "sns.histplot(df['Road_traffic_density'])"
   ]
  },
  {
   "cell_type": "code",
   "execution_count": 93,
   "id": "55b1486a",
   "metadata": {},
   "outputs": [
    {
     "data": {
      "text/plain": [
       "Delivery_person_Age           0\n",
       "Delivery_person_Ratings       0\n",
       "Weather_conditions          616\n",
       "Road_traffic_density          0\n",
       "multiple_deliveries         993\n",
       "Festival                    228\n",
       "City                       1200\n",
       "Time_Ordered_hr            1731\n",
       "Time_Ordered_min           5799\n",
       "dtype: int64"
      ]
     },
     "execution_count": 93,
     "metadata": {},
     "output_type": "execute_result"
    }
   ],
   "source": [
    "null_df.isnull().sum()"
   ]
  },
  {
   "cell_type": "markdown",
   "id": "75f718ee",
   "metadata": {},
   "source": [
    "# 6.Handle the nan values of Festival"
   ]
  },
  {
   "cell_type": "code",
   "execution_count": 95,
   "id": "10278a64",
   "metadata": {},
   "outputs": [
    {
     "data": {
      "text/plain": [
       "228"
      ]
     },
     "execution_count": 95,
     "metadata": {},
     "output_type": "execute_result"
    }
   ],
   "source": [
    "null_df['Festival'].isnull().sum()"
   ]
  },
  {
   "cell_type": "code",
   "execution_count": 96,
   "id": "49951e23",
   "metadata": {},
   "outputs": [
    {
     "data": {
      "text/plain": [
       "No     44460\n",
       "Yes      896\n",
       "Name: Festival, dtype: int64"
      ]
     },
     "execution_count": 96,
     "metadata": {},
     "output_type": "execute_result"
    }
   ],
   "source": [
    "null_df['Festival'].value_counts()"
   ]
  },
  {
   "cell_type": "code",
   "execution_count": 97,
   "id": "5da2de79",
   "metadata": {},
   "outputs": [
    {
     "data": {
      "text/plain": [
       "<AxesSubplot:xlabel='Festival', ylabel='Count'>"
      ]
     },
     "execution_count": 97,
     "metadata": {},
     "output_type": "execute_result"
    },
    {
     "data": {
      "image/png": "[encoded data removed]",
      "text/plain": [
       "<Figure size 640x480 with 1 Axes>"
      ]
     },
     "metadata": {},
     "output_type": "display_data"
    }
   ],
   "source": [
    "sns.histplot(null_df['Festival'])"
   ]
  },
  {
   "cell_type": "code",
   "execution_count": 98,
   "id": "b1885bcb",
   "metadata": {},
   "outputs": [],
   "source": [
    "#Replace the nan values with No\n",
    "null_df['Festival']=null_df['Festival'].fillna(\"No\")"
   ]
  },
  {
   "cell_type": "code",
   "execution_count": 101,
   "id": "9353cb37",
   "metadata": {},
   "outputs": [
    {
     "data": {
      "text/plain": [
       "<AxesSubplot:xlabel='Festival', ylabel='Count'>"
      ]
     },
     "execution_count": 101,
     "metadata": {},
     "output_type": "execute_result"
    },
    {
     "data": {
      "image/png": "[encoded data removed]",
      "text/plain": [
       "<Figure size 640x480 with 1 Axes>"
      ]
     },
     "metadata": {},
     "output_type": "display_data"
    }
   ],
   "source": [
    "sns.histplot(null_df['Festival'])"
   ]
  },
  {
   "cell_type": "code",
   "execution_count": 100,
   "id": "ed2fd8e6",
   "metadata": {},
   "outputs": [
    {
     "data": {
      "text/plain": [
       "Delivery_person_Age           0\n",
       "Delivery_person_Ratings       0\n",
       "Weather_conditions          616\n",
       "Road_traffic_density          0\n",
       "multiple_deliveries         993\n",
       "Festival                      0\n",
       "City                       1200\n",
       "Time_Ordered_hr            1731\n",
       "Time_Ordered_min           5799\n",
       "dtype: int64"
      ]
     },
     "execution_count": 100,
     "metadata": {},
     "output_type": "execute_result"
    }
   ],
   "source": [
    "null_df.isnull().sum()\n"
   ]
  },
  {
   "cell_type": "markdown",
   "id": "6681ddb2",
   "metadata": {},
   "source": [
    "# 7.Handle the nan values of multiple_deliveries"
   ]
  },
  {
   "cell_type": "code",
   "execution_count": 102,
   "id": "3765457c",
   "metadata": {},
   "outputs": [
    {
     "data": {
      "text/plain": [
       "1.0    28151\n",
       "0.0    14094\n",
       "2.0     1985\n",
       "3.0      361\n",
       "Name: multiple_deliveries, dtype: int64"
      ]
     },
     "execution_count": 102,
     "metadata": {},
     "output_type": "execute_result"
    }
   ],
   "source": [
    "null_df['multiple_deliveries'].value_counts()"
   ]
  },
  {
   "cell_type": "code",
   "execution_count": 103,
   "id": "16c8559a",
   "metadata": {},
   "outputs": [
    {
     "data": {
      "text/plain": [
       "<AxesSubplot:xlabel='multiple_deliveries', ylabel='Count'>"
      ]
     },
     "execution_count": 103,
     "metadata": {},
     "output_type": "execute_result"
    },
    {
     "data": {
      "image/png": "[encoded data removed]",
      "text/plain": [
       "<Figure size 640x480 with 1 Axes>"
      ]
     },
     "metadata": {},
     "output_type": "display_data"
    }
   ],
   "source": [
    "sns.histplot(null_df['multiple_deliveries'],kde=True)"
   ]
  },
  {
   "cell_type": "code",
   "execution_count": 105,
   "id": "90a45ca0",
   "metadata": {},
   "outputs": [
    {
     "data": {
      "text/plain": [
       "Delivery_person_Age        float64\n",
       "Delivery_person_Ratings    float64\n",
       "Weather_conditions          object\n",
       "Road_traffic_density        object\n",
       "multiple_deliveries        float64\n",
       "Festival                    object\n",
       "City                        object\n",
       "Time_Ordered_hr             object\n",
       "Time_Ordered_min            object\n",
       "dtype: object"
      ]
     },
     "execution_count": 105,
     "metadata": {},
     "output_type": "execute_result"
    }
   ],
   "source": [
    "null_df.dtypes"
   ]
  },
  {
   "cell_type": "code",
   "execution_count": 106,
   "id": "a89ccfec",
   "metadata": {},
   "outputs": [],
   "source": [
    "#Replacing nan values with 1.0\n",
    "null_df['multiple_deliveries']=null_df['multiple_deliveries'].fillna(1.0)"
   ]
  },
  {
   "cell_type": "code",
   "execution_count": 107,
   "id": "df759548",
   "metadata": {},
   "outputs": [
    {
     "data": {
      "text/plain": [
       "<AxesSubplot:xlabel='multiple_deliveries', ylabel='Count'>"
      ]
     },
     "execution_count": 107,
     "metadata": {},
     "output_type": "execute_result"
    },
    {
     "data": {
      "image/png": "[encoded data removed]",
      "text/plain": [
       "<Figure size 640x480 with 1 Axes>"
      ]
     },
     "metadata": {},
     "output_type": "display_data"
    }
   ],
   "source": [
    "sns.histplot(null_df['multiple_deliveries'],kde=True)"
   ]
  },
  {
   "cell_type": "markdown",
   "id": "fad75631",
   "metadata": {},
   "source": [
    "# 7.Handle the nan values of city"
   ]
  },
  {
   "cell_type": "code",
   "execution_count": 108,
   "id": "4da1f5bd",
   "metadata": {},
   "outputs": [
    {
     "data": {
      "text/plain": [
       "Metropolitian    34087\n",
       "Urban            10133\n",
       "Semi-Urban         164\n",
       "Name: City, dtype: int64"
      ]
     },
     "execution_count": 108,
     "metadata": {},
     "output_type": "execute_result"
    }
   ],
   "source": [
    "null_df['City'].value_counts()"
   ]
  },
  {
   "cell_type": "code",
   "execution_count": 109,
   "id": "faff8020",
   "metadata": {},
   "outputs": [
    {
     "data": {
      "text/plain": [
       "<AxesSubplot:xlabel='City', ylabel='Count'>"
      ]
     },
     "execution_count": 109,
     "metadata": {},
     "output_type": "execute_result"
    },
    {
     "data": {
      "image/png": "[encoded data removed]",
      "text/plain": [
       "<Figure size 640x480 with 1 Axes>"
      ]
     },
     "metadata": {},
     "output_type": "display_data"
    }
   ],
   "source": [
    "sns.histplot(null_df['City'])"
   ]
  },
  {
   "cell_type": "code",
   "execution_count": 110,
   "id": "bf0d9d5a",
   "metadata": {},
   "outputs": [],
   "source": [
    "#Replace the nan values with Metropolitian\n",
    "null_df['City']=null_df['City'].fillna(\"Metropolitian\")"
   ]
  },
  {
   "cell_type": "code",
   "execution_count": 111,
   "id": "b9d22380",
   "metadata": {},
   "outputs": [
    {
     "data": {
      "text/plain": [
       "<AxesSubplot:xlabel='City', ylabel='Count'>"
      ]
     },
     "execution_count": 111,
     "metadata": {},
     "output_type": "execute_result"
    },
    {
     "data": {
      "image/png": "[encoded data removed]",
      "text/plain": [
       "<Figure size 640x480 with 1 Axes>"
      ]
     },
     "metadata": {},
     "output_type": "display_data"
    }
   ],
   "source": [
    "sns.histplot(null_df['City'])"
   ]
  },
  {
   "cell_type": "code",
   "execution_count": 112,
   "id": "dbfee39a",
   "metadata": {},
   "outputs": [
    {
     "data": {
      "text/plain": [
       "Delivery_person_Age           0\n",
       "Delivery_person_Ratings       0\n",
       "Weather_conditions          616\n",
       "Road_traffic_density          0\n",
       "multiple_deliveries           0\n",
       "Festival                      0\n",
       "City                          0\n",
       "Time_Ordered_hr            1731\n",
       "Time_Ordered_min           5799\n",
       "dtype: int64"
      ]
     },
     "execution_count": 112,
     "metadata": {},
     "output_type": "execute_result"
    }
   ],
   "source": [
    "null_df.isnull().sum()\n"
   ]
  },
  {
   "cell_type": "code",
   "execution_count": null,
   "id": "00f2be2c",
   "metadata": {},
   "outputs": [],
   "source": []
  }
 ],
 "metadata": {
  "kernelspec": {
   "display_name": "Python 3 (ipykernel)",
   "language": "python",
   "name": "python3"
  },
  "language_info": {
   "codemirror_mode": {
    "name": "ipython",
    "version": 3
   },
   "file_extension": ".py",
   "mimetype": "text/x-python",
   "name": "python",
   "nbconvert_exporter": "python",
   "pygments_lexer": "ipython3",
   "version": "3.9.13"
  }
 },
 "nbformat": 4,
 "nbformat_minor": 5
}
